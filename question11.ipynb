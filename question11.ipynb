{
 "cells": [
  {
   "cell_type": "markdown",
   "id": "dd1a65dc-ea3f-47ed-abcd-ae6f5d5141c4",
   "metadata": {},
   "source": [
    "# Notebook for assignment 7 by Dejun Zhang"
   ]
  },
  {
   "cell_type": "code",
   "execution_count": 1,
   "id": "48069d76-9492-43e5-ada9-3f14cb1854ad",
   "metadata": {},
   "outputs": [
    {
     "name": "stdout",
     "output_type": "stream",
     "text": [
      "5.0\n"
     ]
    }
   ],
   "source": [
    "def compute_mean(numerical_list):\n",
    "    total_sum = 0\n",
    "    avg = 0\n",
    "\n",
    "    for i in numerical_list:\n",
    "        total_sum = total_sum + i\n",
    "\n",
    "    avg = total_sum / len(numerical_list)\n",
    "    return avg\n",
    "\n",
    "my_list = [2,4,6,8]\n",
    "\n",
    "print (compute_mean(my_list))"
   ]
  },
  {
   "cell_type": "markdown",
   "id": "caee9da8-526c-4936-a100-4e2ca8cb9d5a",
   "metadata": {},
   "source": [
    "A common way to find the **average** of a list is calculating the sum of list elements using loop firstly, then dividing the sum by the number of list items. The equation of the mean of list are shown as below:"
   ]
  },
  {
   "cell_type": "markdown",
   "id": "8338df6a-79ee-4b46-8bd3-97d859ed6e39",
   "metadata": {},
   "source": [
    "$$\\bar x = \\dfrac {x_1 + x_2 + \\cdots + x_n}{n} = \\dfrac {1}{n} \\left( \\sum_{i=1}^{n} x_i\\right)$$"
   ]
  },
  {
   "cell_type": "code",
   "execution_count": null,
   "id": "e05d881b-5c43-4105-a965-c51fc9328188",
   "metadata": {},
   "outputs": [],
   "source": []
  }
 ],
 "metadata": {
  "kernelspec": {
   "display_name": "Python [conda env:base] *",
   "language": "python",
   "name": "conda-base-py"
  },
  "language_info": {
   "codemirror_mode": {
    "name": "ipython",
    "version": 3
   },
   "file_extension": ".py",
   "mimetype": "text/x-python",
   "name": "python",
   "nbconvert_exporter": "python",
   "pygments_lexer": "ipython3",
   "version": "3.12.3"
  }
 },
 "nbformat": 4,
 "nbformat_minor": 5
}
